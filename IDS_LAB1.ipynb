{
  "nbformat": 4,
  "nbformat_minor": 0,
  "metadata": {
    "colab": {
      "provenance": [],
      "authorship_tag": "ABX9TyPCsHi7cFKWKAQORU9iUJog",
      "include_colab_link": true
    },
    "kernelspec": {
      "name": "python3",
      "display_name": "Python 3"
    },
    "language_info": {
      "name": "python"
    }
  },
  "cells": [
    {
      "cell_type": "markdown",
      "metadata": {
        "id": "view-in-github",
        "colab_type": "text"
      },
      "source": [
        "<a href=\"https://colab.research.google.com/github/Likithanimmaganti/TEAM-12-PARKING-SYSTEM-/blob/main/IDS_LAB1.ipynb\" target=\"_parent\"><img src=\"https://colab.research.google.com/assets/colab-badge.svg\" alt=\"Open In Colab\"/></a>"
      ]
    },
    {
      "cell_type": "code",
      "source": [
        "import numpy as np\n",
        "import time\n",
        "\n",
        "arr_basic = np.array([1, 2, 3, 4, 5])\n",
        "print(\"Basic ndarray:\", arr_basic)\n",
        "\n"
      ],
      "metadata": {
        "colab": {
          "base_uri": "https://localhost:8080/"
        },
        "id": "ZANDzhVvHsFM",
        "outputId": "208d51b5-a7bd-4ed2-f946-15be02083749"
      },
      "execution_count": 2,
      "outputs": [
        {
          "output_type": "stream",
          "name": "stdout",
          "text": [
            "Basic ndarray: [1 2 3 4 5]\n"
          ]
        }
      ]
    },
    {
      "cell_type": "code",
      "source": [
        "import numpy as np\n",
        "import time\n",
        "arr_zeros = np.zeros((3, 3))\n",
        "print(\"\\nArray of zeros:\\n\", arr_zeros)\n",
        "\n"
      ],
      "metadata": {
        "colab": {
          "base_uri": "https://localhost:8080/"
        },
        "id": "GvcYALfrNyKG",
        "outputId": "2ef886b6-3e5a-4a27-94d7-65bea3773b63"
      },
      "execution_count": 6,
      "outputs": [
        {
          "output_type": "stream",
          "name": "stdout",
          "text": [
            "\n",
            "Array of zeros:\n",
            " [[0. 0. 0.]\n",
            " [0. 0. 0.]\n",
            " [0. 0. 0.]]\n"
          ]
        }
      ]
    },
    {
      "cell_type": "code",
      "source": [
        "import numpy as np\n",
        "import  time\n",
        "arr_ones = np.ones((2, 4))\n",
        "print(\"\\nArray of ones:\\n\", arr_ones)\n",
        "\n",
        "\n",
        "\n"
      ],
      "metadata": {
        "colab": {
          "base_uri": "https://localhost:8080/"
        },
        "id": "B6Emr6GhOMVI",
        "outputId": "5d7334e0-cb87-4471-8434-54d8a87e6bea"
      },
      "execution_count": 5,
      "outputs": [
        {
          "output_type": "stream",
          "name": "stdout",
          "text": [
            "\n",
            "Array of ones:\n",
            " [[1. 1. 1. 1.]\n",
            " [1. 1. 1. 1.]]\n"
          ]
        }
      ]
    },
    {
      "cell_type": "code",
      "source": [
        "import numpy as np\n",
        "import time\n",
        "\n",
        "arr_random = np.random.rand(3, 2)\n",
        "print(\"\\nArray of random numbers:\\n\", arr_random)\n"
      ],
      "metadata": {
        "colab": {
          "base_uri": "https://localhost:8080/"
        },
        "id": "jbpWv0cHNdA3",
        "outputId": "fe991b4f-d14d-4675-c732-79a9881a8a21"
      },
      "execution_count": 7,
      "outputs": [
        {
          "output_type": "stream",
          "name": "stdout",
          "text": [
            "\n",
            "Array of random numbers:\n",
            " [[0.47839168 0.68509489]\n",
            " [0.24153133 0.76488749]\n",
            " [0.29530393 0.81889777]]\n"
          ]
        }
      ]
    },
    {
      "cell_type": "code",
      "source": [
        "import numpy as np\n",
        "import time\n",
        "\n",
        "arr_choice = np.array([10, 20, 30, 40])\n",
        "print(\"\\nArray of your choice:\", arr_choice)\n",
        "\n"
      ],
      "metadata": {
        "colab": {
          "base_uri": "https://localhost:8080/"
        },
        "id": "gzgrhsT3UCiH",
        "outputId": "86f75648-1943-4d67-ecc6-ab4ea4fc811d"
      },
      "execution_count": 8,
      "outputs": [
        {
          "output_type": "stream",
          "name": "stdout",
          "text": [
            "\n",
            "Array of your choice: [10 20 30 40]\n"
          ]
        }
      ]
    },
    {
      "cell_type": "code",
      "source": [
        "import numpy as np\n",
        "import time\n",
        "\n",
        "arr_identity = np.eye(4)\n",
        "print(\"\\nIdentity matrix (Imatrix):\\n\", arr_identity)\n"
      ],
      "metadata": {
        "colab": {
          "base_uri": "https://localhost:8080/"
        },
        "id": "2ilSJJ_FVp7x",
        "outputId": "12d8a728-99ea-4d9a-c6c1-693f11ad874a"
      },
      "execution_count": 9,
      "outputs": [
        {
          "output_type": "stream",
          "name": "stdout",
          "text": [
            "\n",
            "Identity matrix (Imatrix):\n",
            " [[1. 0. 0. 0.]\n",
            " [0. 1. 0. 0.]\n",
            " [0. 0. 1. 0.]\n",
            " [0. 0. 0. 1.]]\n"
          ]
        }
      ]
    },
    {
      "cell_type": "code",
      "source": [
        "import numpy as np\n",
        "import time\n",
        "arr_evenly_spaced = np.linspace(0, 10, 5)\n",
        "print(\"\\nEvenly spaced ndarray:\", arr_evenly_spaced)\n",
        "\n"
      ],
      "metadata": {
        "colab": {
          "base_uri": "https://localhost:8080/"
        },
        "id": "HE5vUeq0XGqf",
        "outputId": "0204be88-e481-491c-cf70-e76b627de181"
      },
      "execution_count": 10,
      "outputs": [
        {
          "output_type": "stream",
          "name": "stdout",
          "text": [
            "\n",
            "Evenly spaced ndarray: [ 0.   2.5  5.   7.5 10. ]\n"
          ]
        }
      ]
    }
  ]
}